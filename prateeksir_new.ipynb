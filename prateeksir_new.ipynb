{
 "cells": [
  {
   "cell_type": "code",
   "execution_count": 36,
   "metadata": {},
   "outputs": [
    {
     "data": {
      "text/plain": [
       "'C:\\\\Users\\\\Saurav\\\\Downloads'"
      ]
     },
     "execution_count": 36,
     "metadata": {},
     "output_type": "execute_result"
    }
   ],
   "source": [
    "pwd"
   ]
  },
  {
   "cell_type": "code",
   "execution_count": 37,
   "metadata": {},
   "outputs": [],
   "source": [
    "import numpy as np\n",
    "import pandas as pd"
   ]
  },
  {
   "cell_type": "code",
   "execution_count": 38,
   "metadata": {},
   "outputs": [],
   "source": [
    "df = pd.read_excel (r'C:\\\\Users\\\\Saurav\\\\Downloads\\ideasofindia.xlsx')"
   ]
  },
  {
   "cell_type": "code",
   "execution_count": 39,
   "metadata": {},
   "outputs": [
    {
     "data": {
      "text/html": [
       "<div>\n",
       "<style scoped>\n",
       "    .dataframe tbody tr th:only-of-type {\n",
       "        vertical-align: middle;\n",
       "    }\n",
       "\n",
       "    .dataframe tbody tr th {\n",
       "        vertical-align: top;\n",
       "    }\n",
       "\n",
       "    .dataframe thead th {\n",
       "        text-align: right;\n",
       "    }\n",
       "</style>\n",
       "<table border=\"1\" class=\"dataframe\">\n",
       "  <thead>\n",
       "    <tr style=\"text-align: right;\">\n",
       "      <th></th>\n",
       "      <th>ID</th>\n",
       "      <th>Last_Name</th>\n",
       "      <th>Article_Title</th>\n",
       "      <th>Journal</th>\n",
       "      <th>Month</th>\n",
       "      <th>Year</th>\n",
       "    </tr>\n",
       "  </thead>\n",
       "  <tbody>\n",
       "    <tr>\n",
       "      <th>0</th>\n",
       "      <td>0</td>\n",
       "      <td>NaN</td>\n",
       "      <td>Ourselves</td>\n",
       "      <td>AligarhMonthly</td>\n",
       "      <td>January</td>\n",
       "      <td>1903.0</td>\n",
       "    </tr>\n",
       "    <tr>\n",
       "      <th>1</th>\n",
       "      <td>1</td>\n",
       "      <td>Oxford Idler</td>\n",
       "      <td>Oxford Idling</td>\n",
       "      <td>AligarhMonthly</td>\n",
       "      <td>January</td>\n",
       "      <td>1903.0</td>\n",
       "    </tr>\n",
       "    <tr>\n",
       "      <th>2</th>\n",
       "      <td>2</td>\n",
       "      <td>NaN</td>\n",
       "      <td>The Mahommedan Educational Conference</td>\n",
       "      <td>AligarhMonthly</td>\n",
       "      <td>February</td>\n",
       "      <td>1903.0</td>\n",
       "    </tr>\n",
       "    <tr>\n",
       "      <th>3</th>\n",
       "      <td>3</td>\n",
       "      <td>NaN</td>\n",
       "      <td>General Notes</td>\n",
       "      <td>AligarhMonthly</td>\n",
       "      <td>February</td>\n",
       "      <td>1903.0</td>\n",
       "    </tr>\n",
       "    <tr>\n",
       "      <th>4</th>\n",
       "      <td>4</td>\n",
       "      <td>NaN</td>\n",
       "      <td>Correspondence</td>\n",
       "      <td>AligarhMonthly</td>\n",
       "      <td>February</td>\n",
       "      <td>1903.0</td>\n",
       "    </tr>\n",
       "  </tbody>\n",
       "</table>\n",
       "</div>"
      ],
      "text/plain": [
       "   ID     Last_Name                          Article_Title         Journal  \\\n",
       "0   0           NaN                              Ourselves  AligarhMonthly   \n",
       "1   1  Oxford Idler                          Oxford Idling  AligarhMonthly   \n",
       "2   2           NaN  The Mahommedan Educational Conference  AligarhMonthly   \n",
       "3   3           NaN                          General Notes  AligarhMonthly   \n",
       "4   4           NaN                         Correspondence  AligarhMonthly   \n",
       "\n",
       "      Month    Year  \n",
       "0   January  1903.0  \n",
       "1   January  1903.0  \n",
       "2  February  1903.0  \n",
       "3  February  1903.0  \n",
       "4  February  1903.0  "
      ]
     },
     "execution_count": 39,
     "metadata": {},
     "output_type": "execute_result"
    }
   ],
   "source": [
    "df.head()"
   ]
  },
  {
   "cell_type": "code",
   "execution_count": 40,
   "metadata": {},
   "outputs": [
    {
     "data": {
      "text/html": [
       "<div>\n",
       "<style scoped>\n",
       "    .dataframe tbody tr th:only-of-type {\n",
       "        vertical-align: middle;\n",
       "    }\n",
       "\n",
       "    .dataframe tbody tr th {\n",
       "        vertical-align: top;\n",
       "    }\n",
       "\n",
       "    .dataframe thead th {\n",
       "        text-align: right;\n",
       "    }\n",
       "</style>\n",
       "<table border=\"1\" class=\"dataframe\">\n",
       "  <thead>\n",
       "    <tr style=\"text-align: right;\">\n",
       "      <th></th>\n",
       "      <th>ID</th>\n",
       "      <th>Last_Name</th>\n",
       "      <th>Article_Title</th>\n",
       "      <th>Journal</th>\n",
       "      <th>Month</th>\n",
       "      <th>Year</th>\n",
       "    </tr>\n",
       "  </thead>\n",
       "  <tbody>\n",
       "    <tr>\n",
       "      <th>0</th>\n",
       "      <td>0</td>\n",
       "      <td>NaN</td>\n",
       "      <td>Ourselves</td>\n",
       "      <td>AligarhMonthly</td>\n",
       "      <td>January</td>\n",
       "      <td>1903.0</td>\n",
       "    </tr>\n",
       "    <tr>\n",
       "      <th>1</th>\n",
       "      <td>1</td>\n",
       "      <td>Oxford Idler</td>\n",
       "      <td>Oxford Idling</td>\n",
       "      <td>AligarhMonthly</td>\n",
       "      <td>January</td>\n",
       "      <td>1903.0</td>\n",
       "    </tr>\n",
       "    <tr>\n",
       "      <th>2</th>\n",
       "      <td>2</td>\n",
       "      <td>NaN</td>\n",
       "      <td>The Mahommedan Educational Conference</td>\n",
       "      <td>AligarhMonthly</td>\n",
       "      <td>February</td>\n",
       "      <td>1903.0</td>\n",
       "    </tr>\n",
       "    <tr>\n",
       "      <th>3</th>\n",
       "      <td>3</td>\n",
       "      <td>NaN</td>\n",
       "      <td>General Notes</td>\n",
       "      <td>AligarhMonthly</td>\n",
       "      <td>February</td>\n",
       "      <td>1903.0</td>\n",
       "    </tr>\n",
       "    <tr>\n",
       "      <th>4</th>\n",
       "      <td>4</td>\n",
       "      <td>NaN</td>\n",
       "      <td>Correspondence</td>\n",
       "      <td>AligarhMonthly</td>\n",
       "      <td>February</td>\n",
       "      <td>1903.0</td>\n",
       "    </tr>\n",
       "    <tr>\n",
       "      <th>...</th>\n",
       "      <td>...</td>\n",
       "      <td>...</td>\n",
       "      <td>...</td>\n",
       "      <td>...</td>\n",
       "      <td>...</td>\n",
       "      <td>...</td>\n",
       "    </tr>\n",
       "    <tr>\n",
       "      <th>305852</th>\n",
       "      <td>305852</td>\n",
       "      <td>Syed</td>\n",
       "      <td>[Reviews and Notices of Books] Islam and Zoroa...</td>\n",
       "      <td>CurrentThought(Madras)</td>\n",
       "      <td>May</td>\n",
       "      <td>1925.0</td>\n",
       "    </tr>\n",
       "    <tr>\n",
       "      <th>305853</th>\n",
       "      <td>305853</td>\n",
       "      <td>Parpia</td>\n",
       "      <td>The Youth of India</td>\n",
       "      <td>VoiceofIndia(Washington)</td>\n",
       "      <td>November</td>\n",
       "      <td>1945.0</td>\n",
       "    </tr>\n",
       "    <tr>\n",
       "      <th>305854</th>\n",
       "      <td>305854</td>\n",
       "      <td>Khan</td>\n",
       "      <td>An Urdu Poem</td>\n",
       "      <td>MuhammadanAnglo-OrientalCollegeMagazine</td>\n",
       "      <td>April</td>\n",
       "      <td>1893.0</td>\n",
       "    </tr>\n",
       "    <tr>\n",
       "      <th>305855</th>\n",
       "      <td>305855</td>\n",
       "      <td>Bahadur</td>\n",
       "      <td>Convocation Address</td>\n",
       "      <td>OsmaniaMagazine</td>\n",
       "      <td>June</td>\n",
       "      <td>1936.0</td>\n",
       "    </tr>\n",
       "    <tr>\n",
       "      <th>305856</th>\n",
       "      <td>305856</td>\n",
       "      <td>Avalov</td>\n",
       "      <td>Peace Making in Transcaucasia</td>\n",
       "      <td>AsiaticReview</td>\n",
       "      <td>January-October</td>\n",
       "      <td>1928.0</td>\n",
       "    </tr>\n",
       "  </tbody>\n",
       "</table>\n",
       "<p>305857 rows × 6 columns</p>\n",
       "</div>"
      ],
      "text/plain": [
       "            ID     Last_Name  \\\n",
       "0            0           NaN   \n",
       "1            1  Oxford Idler   \n",
       "2            2           NaN   \n",
       "3            3           NaN   \n",
       "4            4           NaN   \n",
       "...        ...           ...   \n",
       "305852  305852          Syed   \n",
       "305853  305853        Parpia   \n",
       "305854  305854          Khan   \n",
       "305855  305855       Bahadur   \n",
       "305856  305856        Avalov   \n",
       "\n",
       "                                            Article_Title  \\\n",
       "0                                               Ourselves   \n",
       "1                                           Oxford Idling   \n",
       "2                   The Mahommedan Educational Conference   \n",
       "3                                           General Notes   \n",
       "4                                          Correspondence   \n",
       "...                                                   ...   \n",
       "305852  [Reviews and Notices of Books] Islam and Zoroa...   \n",
       "305853                                 The Youth of India   \n",
       "305854                                       An Urdu Poem   \n",
       "305855                                Convocation Address   \n",
       "305856                      Peace Making in Transcaucasia   \n",
       "\n",
       "                                        Journal            Month    Year  \n",
       "0                                AligarhMonthly          January  1903.0  \n",
       "1                                AligarhMonthly          January  1903.0  \n",
       "2                                AligarhMonthly         February  1903.0  \n",
       "3                                AligarhMonthly         February  1903.0  \n",
       "4                                AligarhMonthly         February  1903.0  \n",
       "...                                         ...              ...     ...  \n",
       "305852                   CurrentThought(Madras)              May  1925.0  \n",
       "305853                 VoiceofIndia(Washington)         November  1945.0  \n",
       "305854  MuhammadanAnglo-OrientalCollegeMagazine            April  1893.0  \n",
       "305855                          OsmaniaMagazine             June  1936.0  \n",
       "305856                            AsiaticReview  January-October  1928.0  \n",
       "\n",
       "[305857 rows x 6 columns]"
      ]
     },
     "execution_count": 40,
     "metadata": {},
     "output_type": "execute_result"
    }
   ],
   "source": [
    "df"
   ]
  },
  {
   "cell_type": "code",
   "execution_count": 41,
   "metadata": {},
   "outputs": [
    {
     "data": {
      "text/plain": [
       "str"
      ]
     },
     "execution_count": 41,
     "metadata": {},
     "output_type": "execute_result"
    }
   ],
   "source": [
    "y=df['Article_Title']\n",
    "z=str(y)\n",
    "z\n",
    "type(z)"
   ]
  },
  {
   "cell_type": "code",
   "execution_count": 43,
   "metadata": {},
   "outputs": [],
   "source": [
    "from sklearn.feature_extraction.text import CountVectorizer\n",
    "import re\n",
    "\n",
    "my=re.findall(r\"[^\\d]+\",z)\n",
    "x=' '.join(my)\n"
   ]
  },
  {
   "cell_type": "code",
   "execution_count": 44,
   "metadata": {},
   "outputs": [],
   "source": [
    "cv=CountVectorizer(max_df=0.6,min_df=2,stop_words='english')"
   ]
  },
  {
   "cell_type": "code",
   "execution_count": 45,
   "metadata": {},
   "outputs": [],
   "source": [
    "dtm=cv.fit_transform(df['Article_Title'].values.astype('U'))"
   ]
  },
  {
   "cell_type": "code",
   "execution_count": 46,
   "metadata": {},
   "outputs": [
    {
     "data": {
      "text/plain": [
       "246"
      ]
     },
     "execution_count": 46,
     "metadata": {},
     "output_type": "execute_result"
    }
   ],
   "source": [
    "len(df['Journal'].unique())"
   ]
  },
  {
   "cell_type": "code",
   "execution_count": 47,
   "metadata": {},
   "outputs": [
    {
     "data": {
      "text/plain": [
       "<305857x27298 sparse matrix of type '<class 'numpy.int64'>'\n",
       "\twith 1013299 stored elements in Compressed Sparse Row format>"
      ]
     },
     "execution_count": 47,
     "metadata": {},
     "output_type": "execute_result"
    }
   ],
   "source": [
    "dtm"
   ]
  },
  {
   "cell_type": "code",
   "execution_count": 48,
   "metadata": {},
   "outputs": [],
   "source": [
    "from sklearn.decomposition import LatentDirichletAllocation"
   ]
  },
  {
   "cell_type": "code",
   "execution_count": 49,
   "metadata": {},
   "outputs": [],
   "source": [
    "LDA=LatentDirichletAllocation(n_components=15,random_state=42)"
   ]
  },
  {
   "cell_type": "code",
   "execution_count": 50,
   "metadata": {},
   "outputs": [
    {
     "data": {
      "text/plain": [
       "LatentDirichletAllocation(batch_size=128, doc_topic_prior=None,\n",
       "                          evaluate_every=-1, learning_decay=0.7,\n",
       "                          learning_method='batch', learning_offset=10.0,\n",
       "                          max_doc_update_iter=100, max_iter=10,\n",
       "                          mean_change_tol=0.001, n_components=15, n_jobs=None,\n",
       "                          perp_tol=0.1, random_state=42, topic_word_prior=None,\n",
       "                          total_samples=1000000.0, verbose=0)"
      ]
     },
     "execution_count": 50,
     "metadata": {},
     "output_type": "execute_result"
    }
   ],
   "source": [
    "LDA.fit(dtm)"
   ]
  },
  {
   "cell_type": "code",
   "execution_count": 51,
   "metadata": {},
   "outputs": [
    {
     "data": {
      "text/plain": [
       "27298"
      ]
     },
     "execution_count": 51,
     "metadata": {},
     "output_type": "execute_result"
    }
   ],
   "source": [
    "len(cv.get_feature_names())"
   ]
  },
  {
   "cell_type": "code",
   "execution_count": 52,
   "metadata": {},
   "outputs": [
    {
     "name": "stdout",
     "output_type": "stream",
     "text": [
      "The top 15 words for topic 0\n",
      "['mahatma', 'selections', 'land', 'hindu', 'tagore', 'culture', 'bengal', 'buddhism', 'home', 'gandhi', 'japan', 'muslim', 'editorial', 'women', 'education']\n",
      "The top 15 words for topic 1\n",
      "['contemporary', 'maharaja', 'policy', 'address', 'dr', 'reforms', 'thought', 'london', 'labour', 'mr', 'lord', 'late', 'recent', 'books', 'sir']\n",
      "The top 15 words for topic 2\n",
      "['food', 'christianity', 'training', 'report', 'resolutions', 'proceedings', 'international', 'assembly', 'philosophy', 'book', 'legislative', 'committee', 'review', 'council', 'congress']\n",
      "The top 15 words for topic 3\n",
      "['insurance', 'bengal', 'way', 'court', 'caste', 'village', 'rural', 'communal', 'life', 'vedanta', 'school', 'religious', 'story', 'work', 'political']\n",
      "The top 15 words for topic 4\n",
      "['gleanings', 'indian', 'politics', 'presidential', 'finance', 'america', 'swami', 'religion', 'service', 'address', 'comments', 'science', 'news', 'world', 'notes']\n",
      "The top 15 words for topic 5\n",
      "['king', 'constitution', 'buddha', 'future', 'ceylon', 'books', 'buddhist', 'students', 'ancient', 'history', 'china', 'old', 'modern', 'indian', 'new']\n",
      "The top 15 words for topic 6\n",
      "['viceroy', 'anglo', 'federation', 'message', 'supplement', 'affairs', 'poetry', 'great', 'congress', 'editor', 'literary', 'study', 'states', 'national', 'indian']\n",
      "The top 15 words for topic 7\n",
      "['child', 'month', 'conference', 'note', 'delhi', 'unity', 'burma', 'indian', 'agricultural', 'empire', 'islam', 'movement', 'marriage', 'art', 'hindu']\n",
      "The top 15 words for topic 8\n",
      "['tax', 'light', 'table', 'century', 'letters', 'library', 'miscellaneous', 'personal', 'letter', 'intelligence', 'law', 'progress', 'college', 'correspondence', 'mr']\n",
      "The top 15 words for topic 9\n",
      "['administration', 'press', 'meeting', 'punjab', 'act', 'reports', 'association', 'bengal', 'annual', 'indians', 'south', 'east', 'society', 'report', 'bombay']\n",
      "The top 15 words for topic 10\n",
      "['evolution', 'poet', 'temple', 'god', 'theory', 'case', 'appeal', 'woman', 'hindus', 'railway', 'budget', 'self', 'peace', 'man', 'government']\n",
      "The top 15 words for topic 11\n",
      "['army', 'britain', 'conference', 'ramakrishna', 'foreign', 'trade', 'league', 'industry', 'topics', 'sri', 'periodicals', 'economic', 'problem', 'british', 'india']\n",
      "The top 15 words for topic 12\n",
      "['second', 'reply', 'day', 'u009d', 'conference', 'mr', 'u2122', 'u201c', 'statement', 'speech', 'session', 'u201d', 'u2122s', 'u20ac', 'u00e2']\n",
      "The top 15 words for topic 13\n",
      "['japanese', 'diary', 'situation', 'kashmir', 'ii', 'europe', 'gita', 'industries', 'current', 'american', 'england', 'day', 'mysore', 'poem', 'war']\n",
      "The top 15 words for topic 14\n",
      "['economics', 'official', 'non', 'calcutta', 'industrial', 'educational', 'books', 'reform', 'critical', 'university', 'conference', 'literature', 'social', 'notices', 'reviews']\n"
     ]
    }
   ],
   "source": [
    "for index, topic in enumerate(LDA.components_):\n",
    "    print(f\"The top 15 words for topic {index}\")\n",
    "    print([cv.get_feature_names()[i] for i in topic.argsort()[-15:]])"
   ]
  },
  {
   "cell_type": "code",
   "execution_count": 53,
   "metadata": {},
   "outputs": [],
   "source": [
    "topic_res=LDA.transform(dtm)"
   ]
  },
  {
   "cell_type": "code",
   "execution_count": 54,
   "metadata": {},
   "outputs": [
    {
     "data": {
      "text/plain": [
       "(305857, 15)"
      ]
     },
     "execution_count": 54,
     "metadata": {},
     "output_type": "execute_result"
    }
   ],
   "source": [
    "topic_res.shape"
   ]
  },
  {
   "cell_type": "code",
   "execution_count": 55,
   "metadata": {},
   "outputs": [
    {
     "data": {
      "text/plain": [
       "14"
      ]
     },
     "execution_count": 55,
     "metadata": {},
     "output_type": "execute_result"
    }
   ],
   "source": [
    "topic_res[2].argmax()"
   ]
  },
  {
   "cell_type": "code",
   "execution_count": 61,
   "metadata": {},
   "outputs": [],
   "source": [
    "df['topic']=topic_res.argmax(axis=1)"
   ]
  },
  {
   "cell_type": "code",
   "execution_count": 86,
   "metadata": {},
   "outputs": [
    {
     "data": {
      "text/html": [
       "<div>\n",
       "<style scoped>\n",
       "    .dataframe tbody tr th:only-of-type {\n",
       "        vertical-align: middle;\n",
       "    }\n",
       "\n",
       "    .dataframe tbody tr th {\n",
       "        vertical-align: top;\n",
       "    }\n",
       "\n",
       "    .dataframe thead th {\n",
       "        text-align: right;\n",
       "    }\n",
       "</style>\n",
       "<table border=\"1\" class=\"dataframe\">\n",
       "  <thead>\n",
       "    <tr style=\"text-align: right;\">\n",
       "      <th></th>\n",
       "      <th>ID</th>\n",
       "      <th>Last_Name</th>\n",
       "      <th>Article_Title</th>\n",
       "      <th>Journal</th>\n",
       "      <th>Month</th>\n",
       "      <th>Year</th>\n",
       "      <th>column1</th>\n",
       "      <th>topic</th>\n",
       "      <th>year</th>\n",
       "    </tr>\n",
       "  </thead>\n",
       "  <tbody>\n",
       "    <tr>\n",
       "      <th>0</th>\n",
       "      <td>0</td>\n",
       "      <td>NaN</td>\n",
       "      <td>Ourselves</td>\n",
       "      <td>AligarhMonthly</td>\n",
       "      <td>January</td>\n",
       "      <td>1903.0</td>\n",
       "      <td>0</td>\n",
       "      <td>0</td>\n",
       "      <td>1903.0</td>\n",
       "    </tr>\n",
       "    <tr>\n",
       "      <th>1</th>\n",
       "      <td>1</td>\n",
       "      <td>Oxford Idler</td>\n",
       "      <td>Oxford Idling</td>\n",
       "      <td>AligarhMonthly</td>\n",
       "      <td>January</td>\n",
       "      <td>1903.0</td>\n",
       "      <td>0</td>\n",
       "      <td>0</td>\n",
       "      <td>1903.0</td>\n",
       "    </tr>\n",
       "    <tr>\n",
       "      <th>2</th>\n",
       "      <td>2</td>\n",
       "      <td>NaN</td>\n",
       "      <td>The Mahommedan Educational Conference</td>\n",
       "      <td>AligarhMonthly</td>\n",
       "      <td>February</td>\n",
       "      <td>1903.0</td>\n",
       "      <td>14</td>\n",
       "      <td>14</td>\n",
       "      <td>1903.0</td>\n",
       "    </tr>\n",
       "    <tr>\n",
       "      <th>3</th>\n",
       "      <td>3</td>\n",
       "      <td>NaN</td>\n",
       "      <td>General Notes</td>\n",
       "      <td>AligarhMonthly</td>\n",
       "      <td>February</td>\n",
       "      <td>1903.0</td>\n",
       "      <td>4</td>\n",
       "      <td>4</td>\n",
       "      <td>1903.0</td>\n",
       "    </tr>\n",
       "    <tr>\n",
       "      <th>4</th>\n",
       "      <td>4</td>\n",
       "      <td>NaN</td>\n",
       "      <td>Correspondence</td>\n",
       "      <td>AligarhMonthly</td>\n",
       "      <td>February</td>\n",
       "      <td>1903.0</td>\n",
       "      <td>8</td>\n",
       "      <td>8</td>\n",
       "      <td>1903.0</td>\n",
       "    </tr>\n",
       "    <tr>\n",
       "      <th>...</th>\n",
       "      <td>...</td>\n",
       "      <td>...</td>\n",
       "      <td>...</td>\n",
       "      <td>...</td>\n",
       "      <td>...</td>\n",
       "      <td>...</td>\n",
       "      <td>...</td>\n",
       "      <td>...</td>\n",
       "      <td>...</td>\n",
       "    </tr>\n",
       "    <tr>\n",
       "      <th>305852</th>\n",
       "      <td>305852</td>\n",
       "      <td>Syed</td>\n",
       "      <td>[Reviews and Notices of Books] Islam and Zoroa...</td>\n",
       "      <td>CurrentThought(Madras)</td>\n",
       "      <td>May</td>\n",
       "      <td>1925.0</td>\n",
       "      <td>14</td>\n",
       "      <td>14</td>\n",
       "      <td>1925.0</td>\n",
       "    </tr>\n",
       "    <tr>\n",
       "      <th>305853</th>\n",
       "      <td>305853</td>\n",
       "      <td>Parpia</td>\n",
       "      <td>The Youth of India</td>\n",
       "      <td>VoiceofIndia(Washington)</td>\n",
       "      <td>November</td>\n",
       "      <td>1945.0</td>\n",
       "      <td>7</td>\n",
       "      <td>7</td>\n",
       "      <td>1945.0</td>\n",
       "    </tr>\n",
       "    <tr>\n",
       "      <th>305854</th>\n",
       "      <td>305854</td>\n",
       "      <td>Khan</td>\n",
       "      <td>An Urdu Poem</td>\n",
       "      <td>MuhammadanAnglo-OrientalCollegeMagazine</td>\n",
       "      <td>April</td>\n",
       "      <td>1893.0</td>\n",
       "      <td>3</td>\n",
       "      <td>3</td>\n",
       "      <td>1893.0</td>\n",
       "    </tr>\n",
       "    <tr>\n",
       "      <th>305855</th>\n",
       "      <td>305855</td>\n",
       "      <td>Bahadur</td>\n",
       "      <td>Convocation Address</td>\n",
       "      <td>OsmaniaMagazine</td>\n",
       "      <td>June</td>\n",
       "      <td>1936.0</td>\n",
       "      <td>1</td>\n",
       "      <td>1</td>\n",
       "      <td>1936.0</td>\n",
       "    </tr>\n",
       "    <tr>\n",
       "      <th>305856</th>\n",
       "      <td>305856</td>\n",
       "      <td>Avalov</td>\n",
       "      <td>Peace Making in Transcaucasia</td>\n",
       "      <td>AsiaticReview</td>\n",
       "      <td>January-October</td>\n",
       "      <td>1928.0</td>\n",
       "      <td>10</td>\n",
       "      <td>10</td>\n",
       "      <td>1928.0</td>\n",
       "    </tr>\n",
       "  </tbody>\n",
       "</table>\n",
       "<p>305857 rows × 9 columns</p>\n",
       "</div>"
      ],
      "text/plain": [
       "            ID     Last_Name  \\\n",
       "0            0           NaN   \n",
       "1            1  Oxford Idler   \n",
       "2            2           NaN   \n",
       "3            3           NaN   \n",
       "4            4           NaN   \n",
       "...        ...           ...   \n",
       "305852  305852          Syed   \n",
       "305853  305853        Parpia   \n",
       "305854  305854          Khan   \n",
       "305855  305855       Bahadur   \n",
       "305856  305856        Avalov   \n",
       "\n",
       "                                            Article_Title  \\\n",
       "0                                               Ourselves   \n",
       "1                                           Oxford Idling   \n",
       "2                   The Mahommedan Educational Conference   \n",
       "3                                           General Notes   \n",
       "4                                          Correspondence   \n",
       "...                                                   ...   \n",
       "305852  [Reviews and Notices of Books] Islam and Zoroa...   \n",
       "305853                                 The Youth of India   \n",
       "305854                                       An Urdu Poem   \n",
       "305855                                Convocation Address   \n",
       "305856                      Peace Making in Transcaucasia   \n",
       "\n",
       "                                        Journal            Month    Year  \\\n",
       "0                                AligarhMonthly          January  1903.0   \n",
       "1                                AligarhMonthly          January  1903.0   \n",
       "2                                AligarhMonthly         February  1903.0   \n",
       "3                                AligarhMonthly         February  1903.0   \n",
       "4                                AligarhMonthly         February  1903.0   \n",
       "...                                         ...              ...     ...   \n",
       "305852                   CurrentThought(Madras)              May  1925.0   \n",
       "305853                 VoiceofIndia(Washington)         November  1945.0   \n",
       "305854  MuhammadanAnglo-OrientalCollegeMagazine            April  1893.0   \n",
       "305855                          OsmaniaMagazine             June  1936.0   \n",
       "305856                            AsiaticReview  January-October  1928.0   \n",
       "\n",
       "        column1  topic    year  \n",
       "0             0      0  1903.0  \n",
       "1             0      0  1903.0  \n",
       "2            14     14  1903.0  \n",
       "3             4      4  1903.0  \n",
       "4             8      8  1903.0  \n",
       "...         ...    ...     ...  \n",
       "305852       14     14  1925.0  \n",
       "305853        7      7  1945.0  \n",
       "305854        3      3  1893.0  \n",
       "305855        1      1  1936.0  \n",
       "305856       10     10  1928.0  \n",
       "\n",
       "[305857 rows x 9 columns]"
      ]
     },
     "execution_count": 86,
     "metadata": {},
     "output_type": "execute_result"
    }
   ],
   "source": [
    "df"
   ]
  },
  {
   "cell_type": "code",
   "execution_count": null,
   "metadata": {},
   "outputs": [],
   "source": []
  },
  {
   "cell_type": "code",
   "execution_count": 80,
   "metadata": {},
   "outputs": [
    {
     "data": {
      "text/html": [
       "<div>\n",
       "<style scoped>\n",
       "    .dataframe tbody tr th:only-of-type {\n",
       "        vertical-align: middle;\n",
       "    }\n",
       "\n",
       "    .dataframe tbody tr th {\n",
       "        vertical-align: top;\n",
       "    }\n",
       "\n",
       "    .dataframe thead th {\n",
       "        text-align: right;\n",
       "    }\n",
       "</style>\n",
       "<table border=\"1\" class=\"dataframe\">\n",
       "  <thead>\n",
       "    <tr style=\"text-align: right;\">\n",
       "      <th></th>\n",
       "      <th>ID</th>\n",
       "      <th>Last_Name</th>\n",
       "      <th>Article_Title</th>\n",
       "      <th>Journal</th>\n",
       "      <th>Month</th>\n",
       "      <th>Year</th>\n",
       "      <th>column1</th>\n",
       "      <th>topic</th>\n",
       "      <th>year</th>\n",
       "    </tr>\n",
       "  </thead>\n",
       "  <tbody>\n",
       "    <tr>\n",
       "      <th>0</th>\n",
       "      <td>0</td>\n",
       "      <td>NaN</td>\n",
       "      <td>Ourselves</td>\n",
       "      <td>AligarhMonthly</td>\n",
       "      <td>January</td>\n",
       "      <td>1903.0</td>\n",
       "      <td>0</td>\n",
       "      <td>0</td>\n",
       "      <td>1903.0</td>\n",
       "    </tr>\n",
       "    <tr>\n",
       "      <th>1</th>\n",
       "      <td>1</td>\n",
       "      <td>Oxford Idler</td>\n",
       "      <td>Oxford Idling</td>\n",
       "      <td>AligarhMonthly</td>\n",
       "      <td>January</td>\n",
       "      <td>1903.0</td>\n",
       "      <td>0</td>\n",
       "      <td>0</td>\n",
       "      <td>1903.0</td>\n",
       "    </tr>\n",
       "    <tr>\n",
       "      <th>2</th>\n",
       "      <td>2</td>\n",
       "      <td>NaN</td>\n",
       "      <td>The Mahommedan Educational Conference</td>\n",
       "      <td>AligarhMonthly</td>\n",
       "      <td>February</td>\n",
       "      <td>1903.0</td>\n",
       "      <td>14</td>\n",
       "      <td>14</td>\n",
       "      <td>1903.0</td>\n",
       "    </tr>\n",
       "    <tr>\n",
       "      <th>3</th>\n",
       "      <td>3</td>\n",
       "      <td>NaN</td>\n",
       "      <td>General Notes</td>\n",
       "      <td>AligarhMonthly</td>\n",
       "      <td>February</td>\n",
       "      <td>1903.0</td>\n",
       "      <td>4</td>\n",
       "      <td>4</td>\n",
       "      <td>1903.0</td>\n",
       "    </tr>\n",
       "    <tr>\n",
       "      <th>4</th>\n",
       "      <td>4</td>\n",
       "      <td>NaN</td>\n",
       "      <td>Correspondence</td>\n",
       "      <td>AligarhMonthly</td>\n",
       "      <td>February</td>\n",
       "      <td>1903.0</td>\n",
       "      <td>8</td>\n",
       "      <td>8</td>\n",
       "      <td>1903.0</td>\n",
       "    </tr>\n",
       "  </tbody>\n",
       "</table>\n",
       "</div>"
      ],
      "text/plain": [
       "   ID     Last_Name                          Article_Title         Journal  \\\n",
       "0   0           NaN                              Ourselves  AligarhMonthly   \n",
       "1   1  Oxford Idler                          Oxford Idling  AligarhMonthly   \n",
       "2   2           NaN  The Mahommedan Educational Conference  AligarhMonthly   \n",
       "3   3           NaN                          General Notes  AligarhMonthly   \n",
       "4   4           NaN                         Correspondence  AligarhMonthly   \n",
       "\n",
       "      Month    Year  column1  topic    year  \n",
       "0   January  1903.0        0      0  1903.0  \n",
       "1   January  1903.0        0      0  1903.0  \n",
       "2  February  1903.0       14     14  1903.0  \n",
       "3  February  1903.0        4      4  1903.0  \n",
       "4  February  1903.0        8      8  1903.0  "
      ]
     },
     "execution_count": 80,
     "metadata": {},
     "output_type": "execute_result"
    }
   ],
   "source": [
    "df.head()"
   ]
  },
  {
   "cell_type": "code",
   "execution_count": 136,
   "metadata": {},
   "outputs": [],
   "source": [
    "df.to_excel(r'C:\\\\Users\\\\Saurav\\\\Downloads\\iimb1.xlsx', index = False)\n"
   ]
  },
  {
   "cell_type": "code",
   "execution_count": 119,
   "metadata": {},
   "outputs": [],
   "source": [
    "df[\"Year\"]=df[\"Year\"].astype(str)\n",
    "ra=df[\"Year\"].str.startswith(\"184\",na=False)\n",
    "tmo=df[ra]\n",
    "\n",
    "ra1=df[\"Year\"].str.startswith(\"185\",na=False)\n",
    "tmo1=df[ra1]\n",
    "\n",
    "ra2=df[\"Year\"].str.startswith(\"186\",na=False)\n",
    "tmo2=df[ra2]\n",
    "\n",
    "om =pd.concat([tmo,tmo1],axis=0)\n",
    "om =pd.concat([tmo1,tmo2],axis=0)\n",
    "\n",
    "\n",
    "#ra3=df[\"Year\"].str.startswith(\"187\",na=False)\n",
    "  #tmo3=df[ra3]\n",
    "\n",
    "#ra4=df[\"Year\"].str.startswith(\"188\",na=False)\n",
    "#tmo4=df[ra4]\n",
    "\n",
    "#ra5=df[\"Year\"].str.startswith(\"189\",na=False)\n",
    "#tmo5=df[ra5]#"
   ]
  },
  {
   "cell_type": "code",
   "execution_count": 120,
   "metadata": {},
   "outputs": [],
   "source": [
    "om =pd.concat([tmo,tmo1],axis=0)\n",
    "om =pd.concat([tmo1,tmo2],axis=0)"
   ]
  },
  {
   "cell_type": "code",
   "execution_count": 113,
   "metadata": {},
   "outputs": [],
   "source": [
    "pr=df[ra]"
   ]
  },
  {
   "cell_type": "code",
   "execution_count": 115,
   "metadata": {},
   "outputs": [
    {
     "data": {
      "text/html": [
       "<div>\n",
       "<style scoped>\n",
       "    .dataframe tbody tr th:only-of-type {\n",
       "        vertical-align: middle;\n",
       "    }\n",
       "\n",
       "    .dataframe tbody tr th {\n",
       "        vertical-align: top;\n",
       "    }\n",
       "\n",
       "    .dataframe thead th {\n",
       "        text-align: right;\n",
       "    }\n",
       "</style>\n",
       "<table border=\"1\" class=\"dataframe\">\n",
       "  <thead>\n",
       "    <tr style=\"text-align: right;\">\n",
       "      <th></th>\n",
       "      <th>ID</th>\n",
       "      <th>Last_Name</th>\n",
       "      <th>Article_Title</th>\n",
       "      <th>Journal</th>\n",
       "      <th>Month</th>\n",
       "      <th>Year</th>\n",
       "      <th>column1</th>\n",
       "      <th>topic</th>\n",
       "      <th>year</th>\n",
       "    </tr>\n",
       "  </thead>\n",
       "  <tbody>\n",
       "    <tr>\n",
       "      <th>0</th>\n",
       "      <td>0</td>\n",
       "      <td>NaN</td>\n",
       "      <td>Ourselves</td>\n",
       "      <td>AligarhMonthly</td>\n",
       "      <td>January</td>\n",
       "      <td>1903.0</td>\n",
       "      <td>0</td>\n",
       "      <td>0</td>\n",
       "      <td>1903.0</td>\n",
       "    </tr>\n",
       "    <tr>\n",
       "      <th>1</th>\n",
       "      <td>1</td>\n",
       "      <td>Oxford Idler</td>\n",
       "      <td>Oxford Idling</td>\n",
       "      <td>AligarhMonthly</td>\n",
       "      <td>January</td>\n",
       "      <td>1903.0</td>\n",
       "      <td>0</td>\n",
       "      <td>0</td>\n",
       "      <td>1903.0</td>\n",
       "    </tr>\n",
       "    <tr>\n",
       "      <th>2</th>\n",
       "      <td>2</td>\n",
       "      <td>NaN</td>\n",
       "      <td>The Mahommedan Educational Conference</td>\n",
       "      <td>AligarhMonthly</td>\n",
       "      <td>February</td>\n",
       "      <td>1903.0</td>\n",
       "      <td>14</td>\n",
       "      <td>14</td>\n",
       "      <td>1903.0</td>\n",
       "    </tr>\n",
       "    <tr>\n",
       "      <th>3</th>\n",
       "      <td>3</td>\n",
       "      <td>NaN</td>\n",
       "      <td>General Notes</td>\n",
       "      <td>AligarhMonthly</td>\n",
       "      <td>February</td>\n",
       "      <td>1903.0</td>\n",
       "      <td>4</td>\n",
       "      <td>4</td>\n",
       "      <td>1903.0</td>\n",
       "    </tr>\n",
       "    <tr>\n",
       "      <th>4</th>\n",
       "      <td>4</td>\n",
       "      <td>NaN</td>\n",
       "      <td>Correspondence</td>\n",
       "      <td>AligarhMonthly</td>\n",
       "      <td>February</td>\n",
       "      <td>1903.0</td>\n",
       "      <td>8</td>\n",
       "      <td>8</td>\n",
       "      <td>1903.0</td>\n",
       "    </tr>\n",
       "    <tr>\n",
       "      <th>...</th>\n",
       "      <td>...</td>\n",
       "      <td>...</td>\n",
       "      <td>...</td>\n",
       "      <td>...</td>\n",
       "      <td>...</td>\n",
       "      <td>...</td>\n",
       "      <td>...</td>\n",
       "      <td>...</td>\n",
       "      <td>...</td>\n",
       "    </tr>\n",
       "    <tr>\n",
       "      <th>305845</th>\n",
       "      <td>305845</td>\n",
       "      <td>Bose</td>\n",
       "      <td>Exekiel's Lament</td>\n",
       "      <td>IndianLadies'Magazine</td>\n",
       "      <td>January</td>\n",
       "      <td>1904.0</td>\n",
       "      <td>5</td>\n",
       "      <td>5</td>\n",
       "      <td>1904.0</td>\n",
       "    </tr>\n",
       "    <tr>\n",
       "      <th>305846</th>\n",
       "      <td>305846</td>\n",
       "      <td>Bose</td>\n",
       "      <td>A Legend</td>\n",
       "      <td>IndianLadies'Magazine</td>\n",
       "      <td>May</td>\n",
       "      <td>1904.0</td>\n",
       "      <td>11</td>\n",
       "      <td>11</td>\n",
       "      <td>1904.0</td>\n",
       "    </tr>\n",
       "    <tr>\n",
       "      <th>305847</th>\n",
       "      <td>305847</td>\n",
       "      <td>Bose</td>\n",
       "      <td>Buddha's Return to His Palace Home</td>\n",
       "      <td>IndianLadies'Magazine</td>\n",
       "      <td>November</td>\n",
       "      <td>1905.0</td>\n",
       "      <td>10</td>\n",
       "      <td>10</td>\n",
       "      <td>1905.0</td>\n",
       "    </tr>\n",
       "    <tr>\n",
       "      <th>305848</th>\n",
       "      <td>305848</td>\n",
       "      <td>Bose</td>\n",
       "      <td>Women's Burden</td>\n",
       "      <td>IndianLadies'Magazine</td>\n",
       "      <td>June</td>\n",
       "      <td>1905.0</td>\n",
       "      <td>10</td>\n",
       "      <td>10</td>\n",
       "      <td>1905.0</td>\n",
       "    </tr>\n",
       "    <tr>\n",
       "      <th>305851</th>\n",
       "      <td>305851</td>\n",
       "      <td>Oldfiele</td>\n",
       "      <td>[Letters to the Editor] Food of Man (An Apprec...</td>\n",
       "      <td>MysoreReview</td>\n",
       "      <td>October</td>\n",
       "      <td>1905.0</td>\n",
       "      <td>8</td>\n",
       "      <td>8</td>\n",
       "      <td>1905.0</td>\n",
       "    </tr>\n",
       "  </tbody>\n",
       "</table>\n",
       "<p>29519 rows × 9 columns</p>\n",
       "</div>"
      ],
      "text/plain": [
       "            ID     Last_Name  \\\n",
       "0            0           NaN   \n",
       "1            1  Oxford Idler   \n",
       "2            2           NaN   \n",
       "3            3           NaN   \n",
       "4            4           NaN   \n",
       "...        ...           ...   \n",
       "305845  305845          Bose   \n",
       "305846  305846          Bose   \n",
       "305847  305847          Bose   \n",
       "305848  305848          Bose   \n",
       "305851  305851      Oldfiele   \n",
       "\n",
       "                                            Article_Title  \\\n",
       "0                                               Ourselves   \n",
       "1                                           Oxford Idling   \n",
       "2                   The Mahommedan Educational Conference   \n",
       "3                                           General Notes   \n",
       "4                                          Correspondence   \n",
       "...                                                   ...   \n",
       "305845                                   Exekiel's Lament   \n",
       "305846                                           A Legend   \n",
       "305847                 Buddha's Return to His Palace Home   \n",
       "305848                                     Women's Burden   \n",
       "305851  [Letters to the Editor] Food of Man (An Apprec...   \n",
       "\n",
       "                      Journal     Month    Year  column1  topic    year  \n",
       "0              AligarhMonthly   January  1903.0        0      0  1903.0  \n",
       "1              AligarhMonthly   January  1903.0        0      0  1903.0  \n",
       "2              AligarhMonthly  February  1903.0       14     14  1903.0  \n",
       "3              AligarhMonthly  February  1903.0        4      4  1903.0  \n",
       "4              AligarhMonthly  February  1903.0        8      8  1903.0  \n",
       "...                       ...       ...     ...      ...    ...     ...  \n",
       "305845  IndianLadies'Magazine   January  1904.0        5      5  1904.0  \n",
       "305846  IndianLadies'Magazine       May  1904.0       11     11  1904.0  \n",
       "305847  IndianLadies'Magazine  November  1905.0       10     10  1905.0  \n",
       "305848  IndianLadies'Magazine      June  1905.0       10     10  1905.0  \n",
       "305851           MysoreReview   October  1905.0        8      8  1905.0  \n",
       "\n",
       "[29519 rows x 9 columns]"
      ]
     },
     "execution_count": 115,
     "metadata": {},
     "output_type": "execute_result"
    }
   ],
   "source": [
    "pr"
   ]
  },
  {
   "cell_type": "code",
   "execution_count": 116,
   "metadata": {},
   "outputs": [
    {
     "data": {
      "text/plain": [
       "4     2892\n",
       "14    2693\n",
       "0     2543\n",
       "11    2523\n",
       "5     2198\n",
       "8     2009\n",
       "3     1961\n",
       "7     1929\n",
       "6     1852\n",
       "1     1831\n",
       "9     1727\n",
       "13    1719\n",
       "10    1544\n",
       "2     1381\n",
       "12     717\n",
       "Name: topic, dtype: int64"
      ]
     },
     "execution_count": 116,
     "metadata": {},
     "output_type": "execute_result"
    }
   ],
   "source": [
    "pr['topic'].value_counts()"
   ]
  },
  {
   "cell_type": "code",
   "execution_count": 129,
   "metadata": {},
   "outputs": [
    {
     "data": {
      "text/plain": [
       "14    404\n",
       "9     210\n",
       "8     185\n",
       "0     184\n",
       "11    152\n",
       "5     133\n",
       "10    121\n",
       "3     118\n",
       "13    112\n",
       "7     105\n",
       "1     102\n",
       "6     100\n",
       "2      89\n",
       "12     67\n",
       "4      60\n",
       "Name: topic, dtype: int64"
      ]
     },
     "execution_count": 129,
     "metadata": {},
     "output_type": "execute_result"
    }
   ],
   "source": [
    "om['topic'].value_counts()"
   ]
  },
  {
   "cell_type": "code",
   "execution_count": 122,
   "metadata": {},
   "outputs": [],
   "source": [
    "df[\"Year\"]=df[\"Year\"].astype(str)\n",
    "ra=df[\"Year\"].str.startswith(\"187\",na=False)\n",
    "tmo=df[ra]\n",
    "\n",
    "ra1=df[\"Year\"].str.startswith(\"188\",na=False)\n",
    "tmo1=df[ra1]\n",
    "\n",
    "ra2=df[\"Year\"].str.startswith(\"189\",na=False)\n",
    "tmo2=df[ra2]\n",
    "\n",
    "om1 =pd.concat([tmo,tmo1],axis=0)\n",
    "om1 =pd.concat([tmo1,tmo2],axis=0)"
   ]
  },
  {
   "cell_type": "code",
   "execution_count": 123,
   "metadata": {},
   "outputs": [],
   "source": [
    "df[\"Year\"]=df[\"Year\"].astype(str)\n",
    "ra=df[\"Year\"].str.startswith(\"190\",na=False)\n",
    "tmo=df[ra]\n",
    "\n",
    "ra1=df[\"Year\"].str.startswith(\"191\",na=False)\n",
    "tmo1=df[ra1]\n",
    "\n",
    "ra2=df[\"Year\"].str.startswith(\"192\",na=False)\n",
    "tmo2=df[ra2]\n",
    "\n",
    "om2 =pd.concat([tmo,tmo1],axis=0)\n",
    "om2 =pd.concat([tmo1,tmo2],axis=0)"
   ]
  },
  {
   "cell_type": "code",
   "execution_count": 124,
   "metadata": {},
   "outputs": [],
   "source": [
    "df[\"Year\"]=df[\"Year\"].astype(str)\n",
    "ra=df[\"Year\"].str.startswith(\"193\",na=False)\n",
    "tmo=df[ra]\n",
    "\n",
    "ra1=df[\"Year\"].str.startswith(\"194\",na=False)\n",
    "tmo1=df[raj]\n",
    "\n",
    "raj=df[\"Year\"].str.startswith(\"195\",na=False)\n",
    "tmo2=df[raj]\n",
    "\n",
    "om3 =pd.concat([tmo,tmo1],axis=0)\n",
    "om3 =pd.concat([tmo1,tmo2],axis=0)"
   ]
  },
  {
   "cell_type": "code",
   "execution_count": 125,
   "metadata": {},
   "outputs": [],
   "source": [
    "df[\"Year\"]=df[\"Year\"].astype(str)\n",
    "ra=df[\"Year\"].str.startswith(\"196\",na=False)\n",
    "tmo=df[ra]\n",
    "\n",
    "ra1=df[\"Year\"].str.startswith(\"197\",na=False)\n",
    "tmo1=df[ra1]\n",
    "\n",
    "ra2=df[\"Year\"].str.startswith(\"198\",na=False)\n",
    "tmo2=df[ra2]\n",
    "\n",
    "om4 =pd.concat([tmo,tmo1],axis=0)\n",
    "om4 =pd.concat([tmo1,tmo2],axis=0)"
   ]
  },
  {
   "cell_type": "code",
   "execution_count": 130,
   "metadata": {},
   "outputs": [
    {
     "data": {
      "text/plain": [
       "14    2787\n",
       "9     2344\n",
       "8     2135\n",
       "0     2082\n",
       "4     1932\n",
       "5     1899\n",
       "1     1606\n",
       "11    1601\n",
       "3     1539\n",
       "10    1529\n",
       "6     1460\n",
       "7     1459\n",
       "13    1199\n",
       "2     1094\n",
       "12     748\n",
       "Name: topic, dtype: int64"
      ]
     },
     "execution_count": 130,
     "metadata": {},
     "output_type": "execute_result"
    }
   ],
   "source": [
    "om1['topic'].value_counts()\n"
   ]
  },
  {
   "cell_type": "code",
   "execution_count": 131,
   "metadata": {},
   "outputs": [
    {
     "data": {
      "text/plain": [
       "14    9103\n",
       "0     8333\n",
       "11    8145\n",
       "4     7631\n",
       "6     7250\n",
       "5     6702\n",
       "2     6511\n",
       "13    6425\n",
       "1     6346\n",
       "9     6342\n",
       "7     6005\n",
       "10    5540\n",
       "8     5540\n",
       "3     5386\n",
       "12    3900\n",
       "Name: topic, dtype: int64"
      ]
     },
     "execution_count": 131,
     "metadata": {},
     "output_type": "execute_result"
    }
   ],
   "source": [
    "om2['topic'].value_counts()"
   ]
  },
  {
   "cell_type": "code",
   "execution_count": 132,
   "metadata": {},
   "outputs": [
    {
     "data": {
      "text/plain": [
       "11    5771\n",
       "13    5277\n",
       "0     4973\n",
       "5     4662\n",
       "2     4411\n",
       "4     4404\n",
       "1     4242\n",
       "12    4213\n",
       "10    4042\n",
       "6     4023\n",
       "3     3934\n",
       "14    3892\n",
       "7     3736\n",
       "8     3361\n",
       "9     3300\n",
       "Name: topic, dtype: int64"
      ]
     },
     "execution_count": 132,
     "metadata": {},
     "output_type": "execute_result"
    }
   ],
   "source": [
    "om3['topic'].value_counts()"
   ]
  },
  {
   "cell_type": "code",
   "execution_count": 133,
   "metadata": {},
   "outputs": [
    {
     "data": {
      "text/plain": [
       "5     2\n",
       "9     2\n",
       "13    1\n",
       "1     1\n",
       "Name: topic, dtype: int64"
      ]
     },
     "execution_count": 133,
     "metadata": {},
     "output_type": "execute_result"
    }
   ],
   "source": [
    "om4['topic'].value_counts()"
   ]
  },
  {
   "cell_type": "code",
   "execution_count": 135,
   "metadata": {},
   "outputs": [
    {
     "data": {
      "text/plain": [
       "14    404\n",
       "9     210\n",
       "8     185\n",
       "0     184\n",
       "11    152\n",
       "5     133\n",
       "10    121\n",
       "3     118\n",
       "13    112\n",
       "7     105\n",
       "1     102\n",
       "6     100\n",
       "2      89\n",
       "12     67\n",
       "4      60\n",
       "Name: topic, dtype: int64"
      ]
     },
     "execution_count": 135,
     "metadata": {},
     "output_type": "execute_result"
    }
   ],
   "source": [
    "om['topic'].value_counts()"
   ]
  },
  {
   "cell_type": "code",
   "execution_count": null,
   "metadata": {},
   "outputs": [],
   "source": []
  }
 ],
 "metadata": {
  "kernelspec": {
   "display_name": "Python 3",
   "language": "python",
   "name": "python3"
  },
  "language_info": {
   "codemirror_mode": {
    "name": "ipython",
    "version": 3
   },
   "file_extension": ".py",
   "mimetype": "text/x-python",
   "name": "python",
   "nbconvert_exporter": "python",
   "pygments_lexer": "ipython3",
   "version": "3.7.6"
  }
 },
 "nbformat": 4,
 "nbformat_minor": 4
}
